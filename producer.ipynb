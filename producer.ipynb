{
 "cells": [
  {
   "cell_type": "code",
   "execution_count": 4,
   "metadata": {},
   "outputs": [],
   "source": [
    "from kafka import KafkaProducer\n",
    "import cv2"
   ]
  },
  {
   "cell_type": "code",
   "execution_count": 6,
   "metadata": {},
   "outputs": [],
   "source": [
    "import cv2\n",
    "import os\n",
    "import base64\n",
    "\n",
    "from kafka import KafkaProducer\n",
    "import json\n",
    "\n",
    "producer = KafkaProducer(\n",
    "    bootstrap_servers=['localhost:9092'],\n",
    "    value_serializer=lambda v: json.dumps(v).encode('utf-8')\n",
    ")\n",
    "\n",
    "\n",
    "# Path to the folder containing the images\n",
    "folder_path = 'C:/Users/tejas/OneDrive/Desktop/Latest/DB/CroppedImages/CroppedImages'\n",
    "\n",
    "# Loop through all the files in the folder\n",
    "for filename in os.listdir(folder_path):\n",
    "    # Check if the file is an image file\n",
    "    if filename.endswith('.jpg'):\n",
    "        # Read the image using imread\n",
    "        image = cv2.imread(os.path.join(folder_path, filename))\n",
    "        ret, buffer = cv2.imencode('.jpg',image)\n",
    "        # Encode the image bytes using Base64\n",
    "        encoded_image = base64.b64encode(buffer).decode('utf-8')\n",
    "        # Create a message with the file name and encoded image\n",
    "        message = {\n",
    "            'filename': filename,\n",
    "            'image': encoded_image\n",
    "        }\n",
    "        # Send the message to the Kafka topic 'test'\n",
    "        producer.send(\"test\", value=message)\n"
   ]
  }
 ],
 "metadata": {
  "kernelspec": {
   "display_name": "Python 3",
   "language": "python",
   "name": "python3"
  },
  "language_info": {
   "codemirror_mode": {
    "name": "ipython",
    "version": 3
   },
   "file_extension": ".py",
   "mimetype": "text/x-python",
   "name": "python",
   "nbconvert_exporter": "python",
   "pygments_lexer": "ipython3",
   "version": "3.11.0"
  },
  "orig_nbformat": 4
 },
 "nbformat": 4,
 "nbformat_minor": 2
}
